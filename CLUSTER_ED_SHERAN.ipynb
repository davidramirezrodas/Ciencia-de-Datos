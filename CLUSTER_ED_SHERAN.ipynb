{
  "cells": [
    {
      "cell_type": "markdown",
      "metadata": {
        "id": "tv8X2ILNASsJ"
      },
      "source": [
        "Proyecto N°1 Clustering de canciones de Ed Sheran\n"
      ]
    },
    {
      "cell_type": "code",
      "execution_count": null,
      "metadata": {
        "id": "p0nM84VctT8P"
      },
      "outputs": [],
      "source": [
        "## Cargando las librerias requeridas\n",
        "## ==============================================================================\n",
        "import numpy as np\n",
        "import pandas as pd\n",
        "import seaborn as sns\n",
        "import matplotlib.pyplot as plt\n",
        "import scipy.cluster.hierarchy as shc\n",
        "import seaborn as sns\n",
        "from pandas import DataFrame\n",
        "from plotnine import *\n",
        "from tqdm import tqdm\n",
        "\n",
        "## Librerias para métodos de Clustering utilizados\n",
        "from sklearn.decomposition import PCA\n",
        "from sklearn.mixture import GaussianMixture\n",
        "from sklearn.cluster import KMeans, DBSCAN\n",
        "from sklearn.neighbors import NearestNeighbors\n",
        "from sklearn.metrics import silhouette_score\n",
        "from sklearn.metrics import davies_bouldin_score\n",
        "from sklearn import tree"
      ]
    },
    {
      "cell_type": "code",
      "execution_count": null,
      "metadata": {
        "colab": {
          "base_uri": "https://localhost:8080/"
        },
        "id": "7WPQ7D-jGsc1",
        "outputId": "057eaa99-66ce-4846-d8c9-0a0b8b5d23b0"
      },
      "outputs": [
        {
          "name": "stdout",
          "output_type": "stream",
          "text": [
            "Looking in indexes: https://pypi.org/simple, https://us-python.pkg.dev/colab-wheels/public/simple/\n",
            "Collecting spotipy\n",
            "  Downloading spotipy-2.21.0-py3-none-any.whl (28 kB)\n",
            "Collecting urllib3>=1.26.0\n",
            "  Downloading urllib3-1.26.12-py2.py3-none-any.whl (140 kB)\n",
            "\u001b[K     |████████████████████████████████| 140 kB 7.6 MB/s \n",
            "\u001b[?25hCollecting requests>=2.25.0\n",
            "  Downloading requests-2.28.1-py3-none-any.whl (62 kB)\n",
            "\u001b[K     |████████████████████████████████| 62 kB 1.1 MB/s \n",
            "\u001b[?25hRequirement already satisfied: six>=1.15.0 in /usr/local/lib/python3.7/dist-packages (from spotipy) (1.15.0)\n",
            "Collecting redis>=3.5.3\n",
            "  Downloading redis-4.3.4-py3-none-any.whl (246 kB)\n",
            "\u001b[K     |████████████████████████████████| 246 kB 40.0 MB/s \n",
            "\u001b[?25hRequirement already satisfied: packaging>=20.4 in /usr/local/lib/python3.7/dist-packages (from redis>=3.5.3->spotipy) (21.3)\n",
            "Requirement already satisfied: async-timeout>=4.0.2 in /usr/local/lib/python3.7/dist-packages (from redis>=3.5.3->spotipy) (4.0.2)\n",
            "Requirement already satisfied: typing-extensions in /usr/local/lib/python3.7/dist-packages (from redis>=3.5.3->spotipy) (4.1.1)\n",
            "Requirement already satisfied: importlib-metadata>=1.0 in /usr/local/lib/python3.7/dist-packages (from redis>=3.5.3->spotipy) (4.13.0)\n",
            "Collecting deprecated>=1.2.3\n",
            "  Downloading Deprecated-1.2.13-py2.py3-none-any.whl (9.6 kB)\n",
            "Requirement already satisfied: wrapt<2,>=1.10 in /usr/local/lib/python3.7/dist-packages (from deprecated>=1.2.3->redis>=3.5.3->spotipy) (1.14.1)\n",
            "Requirement already satisfied: zipp>=0.5 in /usr/local/lib/python3.7/dist-packages (from importlib-metadata>=1.0->redis>=3.5.3->spotipy) (3.10.0)\n",
            "Requirement already satisfied: pyparsing!=3.0.5,>=2.0.2 in /usr/local/lib/python3.7/dist-packages (from packaging>=20.4->redis>=3.5.3->spotipy) (3.0.9)\n",
            "Requirement already satisfied: idna<4,>=2.5 in /usr/local/lib/python3.7/dist-packages (from requests>=2.25.0->spotipy) (2.10)\n",
            "Requirement already satisfied: certifi>=2017.4.17 in /usr/local/lib/python3.7/dist-packages (from requests>=2.25.0->spotipy) (2022.9.24)\n",
            "Requirement already satisfied: charset-normalizer<3,>=2 in /usr/local/lib/python3.7/dist-packages (from requests>=2.25.0->spotipy) (2.1.1)\n",
            "Installing collected packages: urllib3, deprecated, requests, redis, spotipy\n",
            "  Attempting uninstall: urllib3\n",
            "    Found existing installation: urllib3 1.24.3\n",
            "    Uninstalling urllib3-1.24.3:\n",
            "      Successfully uninstalled urllib3-1.24.3\n",
            "  Attempting uninstall: requests\n",
            "    Found existing installation: requests 2.23.0\n",
            "    Uninstalling requests-2.23.0:\n",
            "      Successfully uninstalled requests-2.23.0\n",
            "Successfully installed deprecated-1.2.13 redis-4.3.4 requests-2.28.1 spotipy-2.21.0 urllib3-1.26.12\n"
          ]
        }
      ],
      "source": [
        "#Instalando una nueva libreria\n",
        "# import sys\n",
        "# !{sys.executable} -m pip install spotipy\n",
        "!pip3 install spotipy\n",
        "import spotipy\n",
        "from spotipy.oauth2 import SpotifyClientCredentials"
      ]
    },
    {
      "cell_type": "code",
      "execution_count": null,
      "metadata": {
        "id": "bK4rJqYyGwjs"
      },
      "outputs": [],
      "source": [
        "#Conectandose con spotify\n",
        "cid = '7ef0bc83dee74b9db739d8da76170c46'\n",
        "secret = '6e6a9c04bfb44088ac26571496ac4302'\n",
        "client_credentials_manager = SpotifyClientCredentials(client_id=cid, client_secret=secret)\n",
        "sp = spotipy.Spotify(client_credentials_manager=client_credentials_manager)"
      ]
    },
    {
      "cell_type": "code",
      "execution_count": null,
      "metadata": {
        "colab": {
          "base_uri": "https://localhost:8080/"
        },
        "id": "_7dk-IpofF1b",
        "outputId": "0e1ea23f-dd11-4fbc-f540-4248339ecc88"
      },
      "outputs": [
        {
          "data": {
            "text/plain": [
              "<spotipy.client.Spotify at 0x7f0c66753790>"
            ]
          },
          "execution_count": 23,
          "metadata": {},
          "output_type": "execute_result"
        }
      ],
      "source": [
        "# Ejemplo de una busqueda\n",
        "sp"
      ]
    },
    {
      "cell_type": "code",
      "execution_count": null,
      "metadata": {
        "colab": {
          "base_uri": "https://localhost:8080/"
        },
        "id": "R2l4n3W8HObC",
        "outputId": "0970c94b-5b57-4172-d0c8-022565cdb40e"
      },
      "outputs": [
        {
          "name": "stdout",
          "output_type": "stream",
          "text": [
            "dict_keys(['href', 'items', 'limit', 'next', 'offset', 'previous', 'total'])\n"
          ]
        }
      ],
      "source": [
        "uri_Ed_Sheeran = 'spotify:album:3T4tUhGYeRNVUGevb0wThu'\n",
        "dict_Ed_Sheeran = sp.album_tracks(uri_Ed_Sheeran)\n",
        "print(dict_Ed_Sheeran.keys())"
      ]
    },
    {
      "cell_type": "code",
      "execution_count": null,
      "metadata": {
        "colab": {
          "base_uri": "https://localhost:8080/"
        },
        "id": "eH4yVy4mRyCN",
        "outputId": "5f7653ae-3107-461e-8db1-691c507393f4"
      },
      "outputs": [
        {
          "name": "stdout",
          "output_type": "stream",
          "text": [
            "El album tiene 16 canciones\n"
          ]
        }
      ],
      "source": [
        "list_Ed_Sheeran_canciones = dict_Ed_Sheeran['items']\n",
        "print(f\"El album tiene {len(list_Ed_Sheeran_canciones)} canciones\")"
      ]
    },
    {
      "cell_type": "code",
      "execution_count": null,
      "metadata": {
        "colab": {
          "base_uri": "https://localhost:8080/"
        },
        "id": "nehVTN7wSZ4U",
        "outputId": "b274dc97-6f08-4858-9f10-5b6c3d8e62fa"
      },
      "outputs": [
        {
          "name": "stdout",
          "output_type": "stream",
          "text": [
            "dict_keys(['artists', 'available_markets', 'disc_number', 'duration_ms', 'explicit', 'external_urls', 'href', 'id', 'is_local', 'name', 'preview_url', 'track_number', 'type', 'uri'])\n"
          ]
        }
      ],
      "source": [
        "dict_primera_cancion = list_Ed_Sheeran_canciones[0]\n",
        "print(dict_primera_cancion.keys())"
      ]
    },
    {
      "cell_type": "code",
      "execution_count": null,
      "metadata": {
        "id": "m7USNLEMSxs8"
      },
      "outputs": [],
      "source": [
        "list_names_songs = []\n",
        "list_uri_songs = []\n",
        "list_duration_ms = []\n",
        "\n",
        "for cancion in list_Ed_Sheeran_canciones:\n",
        "    list_names_songs.append(cancion['name'])\n",
        "    list_uri_songs.append(cancion['uri'])\n",
        "    list_duration_ms.append(cancion['duration_ms'])"
      ]
    },
    {
      "cell_type": "code",
      "execution_count": null,
      "metadata": {
        "id": "n78-PIatS7jM"
      },
      "outputs": [],
      "source": [
        "list_audio_features_canciones = sp.audio_features(list_uri_songs)"
      ]
    },
    {
      "cell_type": "code",
      "execution_count": null,
      "metadata": {
        "colab": {
          "base_uri": "https://localhost:8080/"
        },
        "id": "xP23ypPcTIBE",
        "outputId": "951196fb-c32c-41f3-dd81-5c3155b139d5"
      },
      "outputs": [
        {
          "name": "stdout",
          "output_type": "stream",
          "text": [
            "dict_keys(['danceability', 'energy', 'key', 'loudness', 'mode', 'speechiness', 'acousticness', 'instrumentalness', 'liveness', 'valence', 'tempo', 'type', 'id', 'uri', 'track_href', 'analysis_url', 'duration_ms', 'time_signature'])\n"
          ]
        }
      ],
      "source": [
        "dict_primer_elemento_list_audio_features = list_audio_features_canciones[0]\n",
        "print(dict_primer_elemento_list_audio_features.keys())"
      ]
    },
    {
      "cell_type": "code",
      "execution_count": null,
      "metadata": {
        "id": "dxLBD4iOTUeq"
      },
      "outputs": [],
      "source": [
        "dict_canciones_caracteristicas = dict(\n",
        "    # Bueno, name no es lista vacia\n",
        "    # pero las demás si\n",
        "    name = list_names_songs,\n",
        "    danceability = [],\n",
        "    energy = [],\n",
        "    key = [],\n",
        "    loudness = [],\n",
        "    mode = [],\n",
        "    speechiness = [],\n",
        "    acousticness = [],\n",
        "    instrumentalness = [],\n",
        "    liveness = [],\n",
        "    valence = [],\n",
        "    tempo = [],\n",
        "    duration_ms = []\n",
        ")"
      ]
    },
    {
      "cell_type": "code",
      "execution_count": null,
      "metadata": {
        "id": "35-rF_tGThR0"
      },
      "outputs": [],
      "source": [
        "# Primera iteraciòn: a través de los elementos de la lista de audio features\n",
        "for dict_audio_features_cancion in list_audio_features_canciones:\n",
        "    # Segunda iteración: a través de las llaves del diccionario\n",
        "    for llave in dict_audio_features_cancion:\n",
        "        # Revisamos si una de sus llaves esta en dict_canciones_caracteristicas\n",
        "        if llave in list(dict_canciones_caracteristicas.keys()):\n",
        "            # Si está, se guarda el audio feature en la llave correcta\n",
        "            dict_canciones_caracteristicas[llave].append(dict_audio_features_cancion[llave])"
      ]
    },
    {
      "cell_type": "code",
      "execution_count": null,
      "metadata": {
        "id": "l-pBIRzvBMY6"
      },
      "outputs": [],
      "source": [
        "## CONVERTIMOS LOS DATOS EN UN DATA FRAME"
      ]
    },
    {
      "cell_type": "code",
      "execution_count": null,
      "metadata": {
        "colab": {
          "base_uri": "https://localhost:8080/",
          "height": 551
        },
        "id": "enGmSkCBTjFN",
        "outputId": "0af847ed-d70b-4a9d-f36d-d669e1c71809"
      },
      "outputs": [
        {
          "data": {
            "text/html": [
              "\n",
              "  <div id=\"df-ae214bed-ef6b-4064-a8d1-dc90c4372bd9\">\n",
              "    <div class=\"colab-df-container\">\n",
              "      <div>\n",
              "<style scoped>\n",
              "    .dataframe tbody tr th:only-of-type {\n",
              "        vertical-align: middle;\n",
              "    }\n",
              "\n",
              "    .dataframe tbody tr th {\n",
              "        vertical-align: top;\n",
              "    }\n",
              "\n",
              "    .dataframe thead th {\n",
              "        text-align: right;\n",
              "    }\n",
              "</style>\n",
              "<table border=\"1\" class=\"dataframe\">\n",
              "  <thead>\n",
              "    <tr style=\"text-align: right;\">\n",
              "      <th></th>\n",
              "      <th>name</th>\n",
              "      <th>danceability</th>\n",
              "      <th>energy</th>\n",
              "      <th>key</th>\n",
              "      <th>loudness</th>\n",
              "      <th>mode</th>\n",
              "      <th>speechiness</th>\n",
              "      <th>acousticness</th>\n",
              "      <th>instrumentalness</th>\n",
              "      <th>liveness</th>\n",
              "      <th>valence</th>\n",
              "      <th>tempo</th>\n",
              "      <th>duration_ms</th>\n",
              "    </tr>\n",
              "  </thead>\n",
              "  <tbody>\n",
              "    <tr>\n",
              "      <th>0</th>\n",
              "      <td>Eraser</td>\n",
              "      <td>0.640</td>\n",
              "      <td>0.812</td>\n",
              "      <td>8</td>\n",
              "      <td>-5.647</td>\n",
              "      <td>0</td>\n",
              "      <td>0.0834</td>\n",
              "      <td>0.0860</td>\n",
              "      <td>0.000000</td>\n",
              "      <td>0.0509</td>\n",
              "      <td>0.914</td>\n",
              "      <td>86.013</td>\n",
              "      <td>227427</td>\n",
              "    </tr>\n",
              "    <tr>\n",
              "      <th>1</th>\n",
              "      <td>Castle on the Hill</td>\n",
              "      <td>0.461</td>\n",
              "      <td>0.834</td>\n",
              "      <td>2</td>\n",
              "      <td>-4.868</td>\n",
              "      <td>1</td>\n",
              "      <td>0.0989</td>\n",
              "      <td>0.0232</td>\n",
              "      <td>0.000011</td>\n",
              "      <td>0.1400</td>\n",
              "      <td>0.471</td>\n",
              "      <td>135.007</td>\n",
              "      <td>261154</td>\n",
              "    </tr>\n",
              "    <tr>\n",
              "      <th>2</th>\n",
              "      <td>Dive</td>\n",
              "      <td>0.761</td>\n",
              "      <td>0.386</td>\n",
              "      <td>4</td>\n",
              "      <td>-6.158</td>\n",
              "      <td>1</td>\n",
              "      <td>0.0399</td>\n",
              "      <td>0.3550</td>\n",
              "      <td>0.000000</td>\n",
              "      <td>0.0953</td>\n",
              "      <td>0.526</td>\n",
              "      <td>134.943</td>\n",
              "      <td>238440</td>\n",
              "    </tr>\n",
              "    <tr>\n",
              "      <th>3</th>\n",
              "      <td>Shape of You</td>\n",
              "      <td>0.825</td>\n",
              "      <td>0.652</td>\n",
              "      <td>1</td>\n",
              "      <td>-3.183</td>\n",
              "      <td>0</td>\n",
              "      <td>0.0802</td>\n",
              "      <td>0.5810</td>\n",
              "      <td>0.000000</td>\n",
              "      <td>0.0931</td>\n",
              "      <td>0.931</td>\n",
              "      <td>95.977</td>\n",
              "      <td>233713</td>\n",
              "    </tr>\n",
              "    <tr>\n",
              "      <th>4</th>\n",
              "      <td>Perfect</td>\n",
              "      <td>0.599</td>\n",
              "      <td>0.448</td>\n",
              "      <td>8</td>\n",
              "      <td>-6.312</td>\n",
              "      <td>1</td>\n",
              "      <td>0.0232</td>\n",
              "      <td>0.1630</td>\n",
              "      <td>0.000000</td>\n",
              "      <td>0.1060</td>\n",
              "      <td>0.168</td>\n",
              "      <td>95.050</td>\n",
              "      <td>263400</td>\n",
              "    </tr>\n",
              "    <tr>\n",
              "      <th>5</th>\n",
              "      <td>Galway Girl</td>\n",
              "      <td>0.624</td>\n",
              "      <td>0.876</td>\n",
              "      <td>9</td>\n",
              "      <td>-3.374</td>\n",
              "      <td>1</td>\n",
              "      <td>0.1000</td>\n",
              "      <td>0.0735</td>\n",
              "      <td>0.000000</td>\n",
              "      <td>0.3270</td>\n",
              "      <td>0.781</td>\n",
              "      <td>99.943</td>\n",
              "      <td>170827</td>\n",
              "    </tr>\n",
              "    <tr>\n",
              "      <th>6</th>\n",
              "      <td>Happier</td>\n",
              "      <td>0.522</td>\n",
              "      <td>0.385</td>\n",
              "      <td>0</td>\n",
              "      <td>-7.355</td>\n",
              "      <td>1</td>\n",
              "      <td>0.0288</td>\n",
              "      <td>0.5360</td>\n",
              "      <td>0.000000</td>\n",
              "      <td>0.1350</td>\n",
              "      <td>0.236</td>\n",
              "      <td>89.792</td>\n",
              "      <td>207520</td>\n",
              "    </tr>\n",
              "    <tr>\n",
              "      <th>7</th>\n",
              "      <td>New Man</td>\n",
              "      <td>0.780</td>\n",
              "      <td>0.745</td>\n",
              "      <td>7</td>\n",
              "      <td>-3.970</td>\n",
              "      <td>1</td>\n",
              "      <td>0.1450</td>\n",
              "      <td>0.0559</td>\n",
              "      <td>0.000000</td>\n",
              "      <td>0.0595</td>\n",
              "      <td>0.862</td>\n",
              "      <td>94.026</td>\n",
              "      <td>189280</td>\n",
              "    </tr>\n",
              "    <tr>\n",
              "      <th>8</th>\n",
              "      <td>Hearts Don't Break Around Here</td>\n",
              "      <td>0.604</td>\n",
              "      <td>0.366</td>\n",
              "      <td>7</td>\n",
              "      <td>-7.881</td>\n",
              "      <td>1</td>\n",
              "      <td>0.0267</td>\n",
              "      <td>0.7190</td>\n",
              "      <td>0.000000</td>\n",
              "      <td>0.1620</td>\n",
              "      <td>0.181</td>\n",
              "      <td>105.177</td>\n",
              "      <td>248413</td>\n",
              "    </tr>\n",
              "    <tr>\n",
              "      <th>9</th>\n",
              "      <td>What Do I Know?</td>\n",
              "      <td>0.838</td>\n",
              "      <td>0.492</td>\n",
              "      <td>1</td>\n",
              "      <td>-5.690</td>\n",
              "      <td>0</td>\n",
              "      <td>0.0380</td>\n",
              "      <td>0.2510</td>\n",
              "      <td>0.000000</td>\n",
              "      <td>0.2620</td>\n",
              "      <td>0.895</td>\n",
              "      <td>115.092</td>\n",
              "      <td>237333</td>\n",
              "    </tr>\n",
              "    <tr>\n",
              "      <th>10</th>\n",
              "      <td>How Would You Feel (Paean)</td>\n",
              "      <td>0.617</td>\n",
              "      <td>0.439</td>\n",
              "      <td>9</td>\n",
              "      <td>-5.630</td>\n",
              "      <td>1</td>\n",
              "      <td>0.0269</td>\n",
              "      <td>0.4240</td>\n",
              "      <td>0.000000</td>\n",
              "      <td>0.1270</td>\n",
              "      <td>0.242</td>\n",
              "      <td>139.979</td>\n",
              "      <td>280533</td>\n",
              "    </tr>\n",
              "    <tr>\n",
              "      <th>11</th>\n",
              "      <td>Supermarket Flowers</td>\n",
              "      <td>0.589</td>\n",
              "      <td>0.242</td>\n",
              "      <td>6</td>\n",
              "      <td>-10.517</td>\n",
              "      <td>1</td>\n",
              "      <td>0.0442</td>\n",
              "      <td>0.9140</td>\n",
              "      <td>0.000000</td>\n",
              "      <td>0.0887</td>\n",
              "      <td>0.257</td>\n",
              "      <td>89.749</td>\n",
              "      <td>221107</td>\n",
              "    </tr>\n",
              "    <tr>\n",
              "      <th>12</th>\n",
              "      <td>Barcelona</td>\n",
              "      <td>0.747</td>\n",
              "      <td>0.760</td>\n",
              "      <td>1</td>\n",
              "      <td>-4.294</td>\n",
              "      <td>1</td>\n",
              "      <td>0.1870</td>\n",
              "      <td>0.4480</td>\n",
              "      <td>0.000000</td>\n",
              "      <td>0.1530</td>\n",
              "      <td>0.682</td>\n",
              "      <td>99.975</td>\n",
              "      <td>191147</td>\n",
              "    </tr>\n",
              "    <tr>\n",
              "      <th>13</th>\n",
              "      <td>Bibia Be Ye Ye</td>\n",
              "      <td>0.738</td>\n",
              "      <td>0.677</td>\n",
              "      <td>7</td>\n",
              "      <td>-5.121</td>\n",
              "      <td>1</td>\n",
              "      <td>0.0824</td>\n",
              "      <td>0.5200</td>\n",
              "      <td>0.000000</td>\n",
              "      <td>0.1330</td>\n",
              "      <td>0.882</td>\n",
              "      <td>127.067</td>\n",
              "      <td>176747</td>\n",
              "    </tr>\n",
              "    <tr>\n",
              "      <th>14</th>\n",
              "      <td>Nancy Mulligan</td>\n",
              "      <td>0.680</td>\n",
              "      <td>0.852</td>\n",
              "      <td>7</td>\n",
              "      <td>-4.350</td>\n",
              "      <td>1</td>\n",
              "      <td>0.0349</td>\n",
              "      <td>0.1170</td>\n",
              "      <td>0.000000</td>\n",
              "      <td>0.0866</td>\n",
              "      <td>0.858</td>\n",
              "      <td>101.993</td>\n",
              "      <td>179787</td>\n",
              "    </tr>\n",
              "    <tr>\n",
              "      <th>15</th>\n",
              "      <td>Save Myself</td>\n",
              "      <td>0.552</td>\n",
              "      <td>0.290</td>\n",
              "      <td>10</td>\n",
              "      <td>-5.617</td>\n",
              "      <td>1</td>\n",
              "      <td>0.0448</td>\n",
              "      <td>0.8500</td>\n",
              "      <td>0.000000</td>\n",
              "      <td>0.2270</td>\n",
              "      <td>0.481</td>\n",
              "      <td>78.842</td>\n",
              "      <td>247107</td>\n",
              "    </tr>\n",
              "  </tbody>\n",
              "</table>\n",
              "</div>\n",
              "      <button class=\"colab-df-convert\" onclick=\"convertToInteractive('df-ae214bed-ef6b-4064-a8d1-dc90c4372bd9')\"\n",
              "              title=\"Convert this dataframe to an interactive table.\"\n",
              "              style=\"display:none;\">\n",
              "        \n",
              "  <svg xmlns=\"http://www.w3.org/2000/svg\" height=\"24px\"viewBox=\"0 0 24 24\"\n",
              "       width=\"24px\">\n",
              "    <path d=\"M0 0h24v24H0V0z\" fill=\"none\"/>\n",
              "    <path d=\"M18.56 5.44l.94 2.06.94-2.06 2.06-.94-2.06-.94-.94-2.06-.94 2.06-2.06.94zm-11 1L8.5 8.5l.94-2.06 2.06-.94-2.06-.94L8.5 2.5l-.94 2.06-2.06.94zm10 10l.94 2.06.94-2.06 2.06-.94-2.06-.94-.94-2.06-.94 2.06-2.06.94z\"/><path d=\"M17.41 7.96l-1.37-1.37c-.4-.4-.92-.59-1.43-.59-.52 0-1.04.2-1.43.59L10.3 9.45l-7.72 7.72c-.78.78-.78 2.05 0 2.83L4 21.41c.39.39.9.59 1.41.59.51 0 1.02-.2 1.41-.59l7.78-7.78 2.81-2.81c.8-.78.8-2.07 0-2.86zM5.41 20L4 18.59l7.72-7.72 1.47 1.35L5.41 20z\"/>\n",
              "  </svg>\n",
              "      </button>\n",
              "      \n",
              "  <style>\n",
              "    .colab-df-container {\n",
              "      display:flex;\n",
              "      flex-wrap:wrap;\n",
              "      gap: 12px;\n",
              "    }\n",
              "\n",
              "    .colab-df-convert {\n",
              "      background-color: #E8F0FE;\n",
              "      border: none;\n",
              "      border-radius: 50%;\n",
              "      cursor: pointer;\n",
              "      display: none;\n",
              "      fill: #1967D2;\n",
              "      height: 32px;\n",
              "      padding: 0 0 0 0;\n",
              "      width: 32px;\n",
              "    }\n",
              "\n",
              "    .colab-df-convert:hover {\n",
              "      background-color: #E2EBFA;\n",
              "      box-shadow: 0px 1px 2px rgba(60, 64, 67, 0.3), 0px 1px 3px 1px rgba(60, 64, 67, 0.15);\n",
              "      fill: #174EA6;\n",
              "    }\n",
              "\n",
              "    [theme=dark] .colab-df-convert {\n",
              "      background-color: #3B4455;\n",
              "      fill: #D2E3FC;\n",
              "    }\n",
              "\n",
              "    [theme=dark] .colab-df-convert:hover {\n",
              "      background-color: #434B5C;\n",
              "      box-shadow: 0px 1px 3px 1px rgba(0, 0, 0, 0.15);\n",
              "      filter: drop-shadow(0px 1px 2px rgba(0, 0, 0, 0.3));\n",
              "      fill: #FFFFFF;\n",
              "    }\n",
              "  </style>\n",
              "\n",
              "      <script>\n",
              "        const buttonEl =\n",
              "          document.querySelector('#df-ae214bed-ef6b-4064-a8d1-dc90c4372bd9 button.colab-df-convert');\n",
              "        buttonEl.style.display =\n",
              "          google.colab.kernel.accessAllowed ? 'block' : 'none';\n",
              "\n",
              "        async function convertToInteractive(key) {\n",
              "          const element = document.querySelector('#df-ae214bed-ef6b-4064-a8d1-dc90c4372bd9');\n",
              "          const dataTable =\n",
              "            await google.colab.kernel.invokeFunction('convertToInteractive',\n",
              "                                                     [key], {});\n",
              "          if (!dataTable) return;\n",
              "\n",
              "          const docLinkHtml = 'Like what you see? Visit the ' +\n",
              "            '<a target=\"_blank\" href=https://colab.research.google.com/notebooks/data_table.ipynb>data table notebook</a>'\n",
              "            + ' to learn more about interactive tables.';\n",
              "          element.innerHTML = '';\n",
              "          dataTable['output_type'] = 'display_data';\n",
              "          await google.colab.output.renderOutput(dataTable, element);\n",
              "          const docLink = document.createElement('div');\n",
              "          docLink.innerHTML = docLinkHtml;\n",
              "          element.appendChild(docLink);\n",
              "        }\n",
              "      </script>\n",
              "    </div>\n",
              "  </div>\n",
              "  "
            ],
            "text/plain": [
              "                              name  danceability  energy  key  loudness  mode  \\\n",
              "0                           Eraser         0.640   0.812    8    -5.647     0   \n",
              "1               Castle on the Hill         0.461   0.834    2    -4.868     1   \n",
              "2                             Dive         0.761   0.386    4    -6.158     1   \n",
              "3                     Shape of You         0.825   0.652    1    -3.183     0   \n",
              "4                          Perfect         0.599   0.448    8    -6.312     1   \n",
              "5                      Galway Girl         0.624   0.876    9    -3.374     1   \n",
              "6                          Happier         0.522   0.385    0    -7.355     1   \n",
              "7                          New Man         0.780   0.745    7    -3.970     1   \n",
              "8   Hearts Don't Break Around Here         0.604   0.366    7    -7.881     1   \n",
              "9                  What Do I Know?         0.838   0.492    1    -5.690     0   \n",
              "10      How Would You Feel (Paean)         0.617   0.439    9    -5.630     1   \n",
              "11             Supermarket Flowers         0.589   0.242    6   -10.517     1   \n",
              "12                       Barcelona         0.747   0.760    1    -4.294     1   \n",
              "13                  Bibia Be Ye Ye         0.738   0.677    7    -5.121     1   \n",
              "14                  Nancy Mulligan         0.680   0.852    7    -4.350     1   \n",
              "15                     Save Myself         0.552   0.290   10    -5.617     1   \n",
              "\n",
              "    speechiness  acousticness  instrumentalness  liveness  valence    tempo  \\\n",
              "0        0.0834        0.0860          0.000000    0.0509    0.914   86.013   \n",
              "1        0.0989        0.0232          0.000011    0.1400    0.471  135.007   \n",
              "2        0.0399        0.3550          0.000000    0.0953    0.526  134.943   \n",
              "3        0.0802        0.5810          0.000000    0.0931    0.931   95.977   \n",
              "4        0.0232        0.1630          0.000000    0.1060    0.168   95.050   \n",
              "5        0.1000        0.0735          0.000000    0.3270    0.781   99.943   \n",
              "6        0.0288        0.5360          0.000000    0.1350    0.236   89.792   \n",
              "7        0.1450        0.0559          0.000000    0.0595    0.862   94.026   \n",
              "8        0.0267        0.7190          0.000000    0.1620    0.181  105.177   \n",
              "9        0.0380        0.2510          0.000000    0.2620    0.895  115.092   \n",
              "10       0.0269        0.4240          0.000000    0.1270    0.242  139.979   \n",
              "11       0.0442        0.9140          0.000000    0.0887    0.257   89.749   \n",
              "12       0.1870        0.4480          0.000000    0.1530    0.682   99.975   \n",
              "13       0.0824        0.5200          0.000000    0.1330    0.882  127.067   \n",
              "14       0.0349        0.1170          0.000000    0.0866    0.858  101.993   \n",
              "15       0.0448        0.8500          0.000000    0.2270    0.481   78.842   \n",
              "\n",
              "    duration_ms  \n",
              "0        227427  \n",
              "1        261154  \n",
              "2        238440  \n",
              "3        233713  \n",
              "4        263400  \n",
              "5        170827  \n",
              "6        207520  \n",
              "7        189280  \n",
              "8        248413  \n",
              "9        237333  \n",
              "10       280533  \n",
              "11       221107  \n",
              "12       191147  \n",
              "13       176747  \n",
              "14       179787  \n",
              "15       247107  "
            ]
          },
          "execution_count": 32,
          "metadata": {},
          "output_type": "execute_result"
        }
      ],
      "source": [
        "df = pd.DataFrame(dict_canciones_caracteristicas)\n",
        "df"
      ]
    },
    {
      "cell_type": "code",
      "execution_count": null,
      "metadata": {
        "colab": {
          "base_uri": "https://localhost:8080/"
        },
        "id": "O2BY14NYTzWt",
        "outputId": "b2249875-c52a-46ca-890a-7376e04108a9"
      },
      "outputs": [
        {
          "name": "stdout",
          "output_type": "stream",
          "text": [
            "<class 'pandas.core.frame.DataFrame'>\n",
            "RangeIndex: 16 entries, 0 to 15\n",
            "Data columns (total 13 columns):\n",
            " #   Column            Non-Null Count  Dtype  \n",
            "---  ------            --------------  -----  \n",
            " 0   name              16 non-null     object \n",
            " 1   danceability      16 non-null     float64\n",
            " 2   energy            16 non-null     float64\n",
            " 3   key               16 non-null     int64  \n",
            " 4   loudness          16 non-null     float64\n",
            " 5   mode              16 non-null     int64  \n",
            " 6   speechiness       16 non-null     float64\n",
            " 7   acousticness      16 non-null     float64\n",
            " 8   instrumentalness  16 non-null     float64\n",
            " 9   liveness          16 non-null     float64\n",
            " 10  valence           16 non-null     float64\n",
            " 11  tempo             16 non-null     float64\n",
            " 12  duration_ms       16 non-null     int64  \n",
            "dtypes: float64(9), int64(3), object(1)\n",
            "memory usage: 1.8+ KB\n"
          ]
        }
      ],
      "source": [
        "## Comprobar valores nulos\n",
        "## ==============================================================================\n",
        "df.info()"
      ]
    },
    {
      "cell_type": "code",
      "execution_count": null,
      "metadata": {
        "colab": {
          "base_uri": "https://localhost:8080/",
          "height": 370
        },
        "id": "lsIiOEW0r13Y",
        "outputId": "b8f7e2c1-05c7-4113-fd11-2c1d348a8cd0"
      },
      "outputs": [
        {
          "data": {
            "image/png": "[encoded data removed]",
            "text/plain": [
              "<Figure size 864x360 with 2 Axes>"
            ]
          },
          "metadata": {
            "needs_background": "light"
          },
          "output_type": "display_data"
        }
      ],
      "source": [
        "## Distribución de la varaible 'danceability'\n",
        "## ==============================================================================\n",
        "fig, ax = plt.subplots(nrows = 1,ncols = 2, figsize = (12,5))\n",
        "\n",
        "sns.boxplot(y= df['danceability'], ax = ax[0], color = 'blue')\n",
        "sns.histplot(x  = df['danceability'], ax = ax[1], color = 'blue')\n",
        "fig.suptitle('Análisis variable: Danceability', fontsize=16)\n",
        "ax[0].title.set_text('Box plot Danceability')\n",
        "ax[1].title.set_text('Histograma Danceability')\n",
        "plt.show()"
      ]
    },
    {
      "cell_type": "code",
      "execution_count": null,
      "metadata": {
        "colab": {
          "base_uri": "https://localhost:8080/",
          "height": 370
        },
        "id": "sW9_D2SUstr4",
        "outputId": "036b4b1c-c18c-4e78-f782-03c06472703e"
      },
      "outputs": [
        {
          "data": {
            "image/png": "[encoded data removed]",
            "text/plain": [
              "<Figure size 864x360 with 2 Axes>"
            ]
          },
          "metadata": {
            "needs_background": "light"
          },
          "output_type": "display_data"
        }
      ],
      "source": [
        "## Distribución de la variable 'energy'\n",
        "## ==============================================================================\n",
        "fig, ax = plt.subplots(nrows = 1,ncols = 2, figsize = (12,5))\n",
        "\n",
        "sns.boxplot(y= df['energy'], ax = ax[0], color = 'skyblue')\n",
        "sns.histplot(x  = df['energy'], ax = ax[1], color = 'skyblue')\n",
        "fig.suptitle('Análisis variable: Energy', fontsize=16)\n",
        "ax[0].title.set_text('Box plot Energy')\n",
        "ax[1].title.set_text('Histograma Energy')\n",
        "plt.show()"
      ]
    },
    {
      "cell_type": "code",
      "execution_count": null,
      "metadata": {
        "colab": {
          "base_uri": "https://localhost:8080/",
          "height": 370
        },
        "id": "SJfagi8ks3qA",
        "outputId": "351fc023-4a4e-47cd-d6ce-774fea252ffe"
      },
      "outputs": [
        {
          "data": {
            "image/png": "[encoded data removed]",
            "text/plain": [
              "<Figure size 864x360 with 2 Axes>"
            ]
          },
          "metadata": {
            "needs_background": "light"
          },
          "output_type": "display_data"
        }
      ],
      "source": [
        "## Analisis de la variable 'liveness'\n",
        "## ==============================================================================\n",
        "fig, ax = plt.subplots(nrows = 1,ncols = 2, figsize = (12,5))\n",
        "\n",
        "sns.boxplot(y= df['liveness'], ax = ax[0], color = 'purple')\n",
        "sns.histplot(x  = df['liveness'], ax = ax[1], color = 'purple')\n",
        "fig.suptitle('Análisis variable: Liveness', fontsize=16)\n",
        "ax[0].title.set_text('Box plot Liveness')\n",
        "ax[1].title.set_text('Histograma Liveness')\n",
        "plt.show()"
      ]
    },
    {
      "cell_type": "code",
      "execution_count": null,
      "metadata": {
        "colab": {
          "base_uri": "https://localhost:8080/",
          "height": 370
        },
        "id": "gqYXw3tVtMSx",
        "outputId": "f8d0723e-6887-4e79-f9d5-91e4c4a64f4f"
      },
      "outputs": [
        {
          "data": {
            "image/png": "[encoded data removed]",
            "text/plain": [
              "<Figure size 864x360 with 2 Axes>"
            ]
          },
          "metadata": {
            "needs_background": "light"
          },
          "output_type": "display_data"
        }
      ],
      "source": [
        "## Analisis de la variable 'Speechiness'\n",
        "## ==============================================================================\n",
        "fig, ax = plt.subplots(nrows = 1,ncols = 2, figsize = (12,5))\n",
        "\n",
        "sns.boxplot(y= df['speechiness'], ax = ax[0], color = 'palegreen')\n",
        "sns.histplot(x  = df['speechiness'], ax = ax[1], color = 'palegreen')\n",
        "fig.suptitle('Análisis variable: Speechiness', fontsize=16)\n",
        "ax[0].title.set_text('Box plot Speechiness')\n",
        "ax[1].title.set_text('Histograma Speechiness')\n",
        "plt.show()"
      ]
    },
    {
      "cell_type": "code",
      "execution_count": null,
      "metadata": {
        "colab": {
          "base_uri": "https://localhost:8080/",
          "height": 297
        },
        "id": "Oj6gbXmBtlP-",
        "outputId": "99ed2be8-3ded-4702-8323-6c0bbc262bc1"
      },
      "outputs": [
        {
          "data": {
            "text/plain": [
              "<matplotlib.axes._subplots.AxesSubplot at 0x7f0c63e1a6d0>"
            ]
          },
          "execution_count": 38,
          "metadata": {},
          "output_type": "execute_result"
        },
        {
          "data": {
            "image/png": "[encoded data removed]",
            "text/plain": [
              "<Figure size 432x288 with 1 Axes>"
            ]
          },
          "metadata": {
            "needs_background": "light"
          },
          "output_type": "display_data"
        }
      ],
      "source": [
        "sns.boxplot(x = df['key'], y = df['danceability'])"
      ]
    },
    {
      "cell_type": "code",
      "execution_count": null,
      "metadata": {
        "colab": {
          "base_uri": "https://localhost:8080/",
          "height": 341
        },
        "id": "CrlEGQSMt_Wa",
        "outputId": "17a4bfb9-1854-4478-fcaa-85a66f384ebb"
      },
      "outputs": [
        {
          "data": {
            "text/plain": [
              "<matplotlib.axes._subplots.AxesSubplot at 0x7f0c63d3e910>"
            ]
          },
          "execution_count": 39,
          "metadata": {},
          "output_type": "execute_result"
        },
        {
          "data": {
            "image/png": "[encoded data removed]",
            "text/plain": [
              "<Figure size 432x288 with 2 Axes>"
            ]
          },
          "metadata": {
            "needs_background": "light"
          },
          "output_type": "display_data"
        }
      ],
      "source": [
        "## Correlacion entre las varaibles numéricas\n",
        "## ==============================================================================\n",
        "#numericas = ['danceability','energy','liveness','speechiness','valence','duration_ms','tempo','acousticness']\n",
        "numericas = ['danceability','energy','liveness','speechiness','valence','tempo','acousticness']\n",
        "#sns.heatmap(dataFinal[numericas].corr())\n",
        "sns.heatmap(round(df[numericas].corr(),3), annot = True)"
      ]
    },
    {
      "cell_type": "code",
      "execution_count": null,
      "metadata": {
        "colab": {
          "base_uri": "https://localhost:8080/",
          "height": 206
        },
        "id": "SIu6_vf8g3h8",
        "outputId": "ef28ca93-f800-471b-f9af-70c6b24ec19a"
      },
      "outputs": [
        {
          "data": {
            "text/html": [
              "\n",
              "  <div id=\"df-bfbe7979-dd09-4cc7-92f2-694cee865377\">\n",
              "    <div class=\"colab-df-container\">\n",
              "      <div>\n",
              "<style scoped>\n",
              "    .dataframe tbody tr th:only-of-type {\n",
              "        vertical-align: middle;\n",
              "    }\n",
              "\n",
              "    .dataframe tbody tr th {\n",
              "        vertical-align: top;\n",
              "    }\n",
              "\n",
              "    .dataframe thead th {\n",
              "        text-align: right;\n",
              "    }\n",
              "</style>\n",
              "<table border=\"1\" class=\"dataframe\">\n",
              "  <thead>\n",
              "    <tr style=\"text-align: right;\">\n",
              "      <th></th>\n",
              "      <th>danceability</th>\n",
              "      <th>energy</th>\n",
              "      <th>liveness</th>\n",
              "      <th>speechiness</th>\n",
              "      <th>valence</th>\n",
              "      <th>tempo</th>\n",
              "      <th>acousticness</th>\n",
              "    </tr>\n",
              "  </thead>\n",
              "  <tbody>\n",
              "    <tr>\n",
              "      <th>0</th>\n",
              "      <td>-0.196785</td>\n",
              "      <td>1.101516</td>\n",
              "      <td>-1.238119</td>\n",
              "      <td>0.341663</td>\n",
              "      <td>1.142706</td>\n",
              "      <td>-1.055651</td>\n",
              "      <td>-1.056638</td>\n",
              "    </tr>\n",
              "    <tr>\n",
              "      <th>1</th>\n",
              "      <td>-1.869167</td>\n",
              "      <td>1.205299</td>\n",
              "      <td>-0.005275</td>\n",
              "      <td>0.680456</td>\n",
              "      <td>-0.398002</td>\n",
              "      <td>1.593145</td>\n",
              "      <td>-1.280599</td>\n",
              "    </tr>\n",
              "    <tr>\n",
              "      <th>2</th>\n",
              "      <td>0.933708</td>\n",
              "      <td>-0.908102</td>\n",
              "      <td>-0.623773</td>\n",
              "      <td>-0.609146</td>\n",
              "      <td>-0.206717</td>\n",
              "      <td>1.589685</td>\n",
              "      <td>-0.097314</td>\n",
              "    </tr>\n",
              "    <tr>\n",
              "      <th>3</th>\n",
              "      <td>1.531654</td>\n",
              "      <td>0.346730</td>\n",
              "      <td>-0.654213</td>\n",
              "      <td>0.271718</td>\n",
              "      <td>1.201830</td>\n",
              "      <td>-0.516960</td>\n",
              "      <td>0.708660</td>\n",
              "    </tr>\n",
              "    <tr>\n",
              "      <th>4</th>\n",
              "      <td>-0.579845</td>\n",
              "      <td>-0.615623</td>\n",
              "      <td>-0.475721</td>\n",
              "      <td>-0.974169</td>\n",
              "      <td>-1.451804</td>\n",
              "      <td>-0.567077</td>\n",
              "      <td>-0.782036</td>\n",
              "    </tr>\n",
              "  </tbody>\n",
              "</table>\n",
              "</div>\n",
              "      <button class=\"colab-df-convert\" onclick=\"convertToInteractive('df-bfbe7979-dd09-4cc7-92f2-694cee865377')\"\n",
              "              title=\"Convert this dataframe to an interactive table.\"\n",
              "              style=\"display:none;\">\n",
              "        \n",
              "  <svg xmlns=\"http://www.w3.org/2000/svg\" height=\"24px\"viewBox=\"0 0 24 24\"\n",
              "       width=\"24px\">\n",
              "    <path d=\"M0 0h24v24H0V0z\" fill=\"none\"/>\n",
              "    <path d=\"M18.56 5.44l.94 2.06.94-2.06 2.06-.94-2.06-.94-.94-2.06-.94 2.06-2.06.94zm-11 1L8.5 8.5l.94-2.06 2.06-.94-2.06-.94L8.5 2.5l-.94 2.06-2.06.94zm10 10l.94 2.06.94-2.06 2.06-.94-2.06-.94-.94-2.06-.94 2.06-2.06.94z\"/><path d=\"M17.41 7.96l-1.37-1.37c-.4-.4-.92-.59-1.43-.59-.52 0-1.04.2-1.43.59L10.3 9.45l-7.72 7.72c-.78.78-.78 2.05 0 2.83L4 21.41c.39.39.9.59 1.41.59.51 0 1.02-.2 1.41-.59l7.78-7.78 2.81-2.81c.8-.78.8-2.07 0-2.86zM5.41 20L4 18.59l7.72-7.72 1.47 1.35L5.41 20z\"/>\n",
              "  </svg>\n",
              "      </button>\n",
              "      \n",
              "  <style>\n",
              "    .colab-df-container {\n",
              "      display:flex;\n",
              "      flex-wrap:wrap;\n",
              "      gap: 12px;\n",
              "    }\n",
              "\n",
              "    .colab-df-convert {\n",
              "      background-color: #E8F0FE;\n",
              "      border: none;\n",
              "      border-radius: 50%;\n",
              "      cursor: pointer;\n",
              "      display: none;\n",
              "      fill: #1967D2;\n",
              "      height: 32px;\n",
              "      padding: 0 0 0 0;\n",
              "      width: 32px;\n",
              "    }\n",
              "\n",
              "    .colab-df-convert:hover {\n",
              "      background-color: #E2EBFA;\n",
              "      box-shadow: 0px 1px 2px rgba(60, 64, 67, 0.3), 0px 1px 3px 1px rgba(60, 64, 67, 0.15);\n",
              "      fill: #174EA6;\n",
              "    }\n",
              "\n",
              "    [theme=dark] .colab-df-convert {\n",
              "      background-color: #3B4455;\n",
              "      fill: #D2E3FC;\n",
              "    }\n",
              "\n",
              "    [theme=dark] .colab-df-convert:hover {\n",
              "      background-color: #434B5C;\n",
              "      box-shadow: 0px 1px 3px 1px rgba(0, 0, 0, 0.15);\n",
              "      filter: drop-shadow(0px 1px 2px rgba(0, 0, 0, 0.3));\n",
              "      fill: #FFFFFF;\n",
              "    }\n",
              "  </style>\n",
              "\n",
              "      <script>\n",
              "        const buttonEl =\n",
              "          document.querySelector('#df-bfbe7979-dd09-4cc7-92f2-694cee865377 button.colab-df-convert');\n",
              "        buttonEl.style.display =\n",
              "          google.colab.kernel.accessAllowed ? 'block' : 'none';\n",
              "\n",
              "        async function convertToInteractive(key) {\n",
              "          const element = document.querySelector('#df-bfbe7979-dd09-4cc7-92f2-694cee865377');\n",
              "          const dataTable =\n",
              "            await google.colab.kernel.invokeFunction('convertToInteractive',\n",
              "                                                     [key], {});\n",
              "          if (!dataTable) return;\n",
              "\n",
              "          const docLinkHtml = 'Like what you see? Visit the ' +\n",
              "            '<a target=\"_blank\" href=https://colab.research.google.com/notebooks/data_table.ipynb>data table notebook</a>'\n",
              "            + ' to learn more about interactive tables.';\n",
              "          element.innerHTML = '';\n",
              "          dataTable['output_type'] = 'display_data';\n",
              "          await google.colab.output.renderOutput(dataTable, element);\n",
              "          const docLink = document.createElement('div');\n",
              "          docLink.innerHTML = docLinkHtml;\n",
              "          element.appendChild(docLink);\n",
              "        }\n",
              "      </script>\n",
              "    </div>\n",
              "  </div>\n",
              "  "
            ],
            "text/plain": [
              "   danceability    energy  liveness  speechiness   valence     tempo  \\\n",
              "0     -0.196785  1.101516 -1.238119     0.341663  1.142706 -1.055651   \n",
              "1     -1.869167  1.205299 -0.005275     0.680456 -0.398002  1.593145   \n",
              "2      0.933708 -0.908102 -0.623773    -0.609146 -0.206717  1.589685   \n",
              "3      1.531654  0.346730 -0.654213     0.271718  1.201830 -0.516960   \n",
              "4     -0.579845 -0.615623 -0.475721    -0.974169 -1.451804 -0.567077   \n",
              "\n",
              "   acousticness  \n",
              "0     -1.056638  \n",
              "1     -1.280599  \n",
              "2     -0.097314  \n",
              "3      0.708660  \n",
              "4     -0.782036  "
            ]
          },
          "execution_count": 42,
          "metadata": {},
          "output_type": "execute_result"
        }
      ],
      "source": [
        "## Escalamiento de la data seleccionada.\n",
        "## Se realizará una estandarización de los datos (media 0, varianza 1)\n",
        "## ==============================================================================\n",
        "from sklearn.preprocessing import StandardScaler\n",
        "\n",
        "scaler = StandardScaler() #Creamos un objeto de la clase StandardScaler\n",
        "data_scalada = scaler.fit_transform(df[numericas]) #estandarización los datos (media 0, varianza 1)\n",
        "#pd.DataFrame(data_scalada, columns=dataFinal.columns)\n",
        "#data_scalada = DataFrame(data_scalada, columns=dataFinal.columns)\n",
        "#data_scalada = dataFinal[columnas_modelo]\n",
        "data_scalada = pd.DataFrame(data_scalada, columns = numericas, index = df.index)\n",
        "data_scalada.head()"
      ]
    },
    {
      "cell_type": "code",
      "execution_count": null,
      "metadata": {
        "colab": {
          "base_uri": "https://localhost:8080/",
          "height": 300
        },
        "id": "W8kv5Qz0g30Q",
        "outputId": "8a57cd97-4a47-4a49-c4e0-c6303dfa3371"
      },
      "outputs": [
        {
          "data": {
            "text/html": [
              "\n",
              "  <div id=\"df-ca296f22-6a9f-4b06-ad8a-8c2d69829ff3\">\n",
              "    <div class=\"colab-df-container\">\n",
              "      <div>\n",
              "<style scoped>\n",
              "    .dataframe tbody tr th:only-of-type {\n",
              "        vertical-align: middle;\n",
              "    }\n",
              "\n",
              "    .dataframe tbody tr th {\n",
              "        vertical-align: top;\n",
              "    }\n",
              "\n",
              "    .dataframe thead th {\n",
              "        text-align: right;\n",
              "    }\n",
              "</style>\n",
              "<table border=\"1\" class=\"dataframe\">\n",
              "  <thead>\n",
              "    <tr style=\"text-align: right;\">\n",
              "      <th></th>\n",
              "      <th>danceability</th>\n",
              "      <th>energy</th>\n",
              "      <th>liveness</th>\n",
              "      <th>speechiness</th>\n",
              "      <th>valence</th>\n",
              "      <th>tempo</th>\n",
              "      <th>acousticness</th>\n",
              "    </tr>\n",
              "  </thead>\n",
              "  <tbody>\n",
              "    <tr>\n",
              "      <th>count</th>\n",
              "      <td>16.000000</td>\n",
              "      <td>1.600000e+01</td>\n",
              "      <td>16.000000</td>\n",
              "      <td>16.000000</td>\n",
              "      <td>1.600000e+01</td>\n",
              "      <td>16.000000</td>\n",
              "      <td>1.600000e+01</td>\n",
              "    </tr>\n",
              "    <tr>\n",
              "      <th>mean</th>\n",
              "      <td>-0.000625</td>\n",
              "      <td>-4.163336e-17</td>\n",
              "      <td>-0.000625</td>\n",
              "      <td>0.000000</td>\n",
              "      <td>1.387779e-17</td>\n",
              "      <td>0.000000</td>\n",
              "      <td>-2.775558e-17</td>\n",
              "    </tr>\n",
              "    <tr>\n",
              "      <th>std</th>\n",
              "      <td>1.031998</td>\n",
              "      <td>1.033376e+00</td>\n",
              "      <td>1.032282</td>\n",
              "      <td>1.033131</td>\n",
              "      <td>1.032712e+00</td>\n",
              "      <td>1.031833</td>\n",
              "      <td>1.033454e+00</td>\n",
              "    </tr>\n",
              "    <tr>\n",
              "      <th>min</th>\n",
              "      <td>-1.870000</td>\n",
              "      <td>-1.590000e+00</td>\n",
              "      <td>-1.240000</td>\n",
              "      <td>-0.970000</td>\n",
              "      <td>-1.450000e+00</td>\n",
              "      <td>-1.440000</td>\n",
              "      <td>-1.280000e+00</td>\n",
              "    </tr>\n",
              "    <tr>\n",
              "      <th>25%</th>\n",
              "      <td>-0.602500</td>\n",
              "      <td>-9.100000e-01</td>\n",
              "      <td>-0.667500</td>\n",
              "      <td>-0.752500</td>\n",
              "      <td>-1.152500e+00</td>\n",
              "      <td>-0.677500</td>\n",
              "      <td>-9.775000e-01</td>\n",
              "    </tr>\n",
              "    <tr>\n",
              "      <th>50%</th>\n",
              "      <td>-0.275000</td>\n",
              "      <td>-3.000000e-02</td>\n",
              "      <td>-0.145000</td>\n",
              "      <td>-0.510000</td>\n",
              "      <td>6.500000e-02</td>\n",
              "      <td>-0.300000</td>\n",
              "      <td>2.500000e-02</td>\n",
              "    </tr>\n",
              "    <tr>\n",
              "      <th>75%</th>\n",
              "      <td>0.832500</td>\n",
              "      <td>9.200000e-01</td>\n",
              "      <td>0.202500</td>\n",
              "      <td>0.425000</td>\n",
              "      <td>9.775000e-01</td>\n",
              "      <td>0.680000</td>\n",
              "      <td>5.900000e-01</td>\n",
              "    </tr>\n",
              "    <tr>\n",
              "      <th>max</th>\n",
              "      <td>1.650000</td>\n",
              "      <td>1.400000e+00</td>\n",
              "      <td>2.580000</td>\n",
              "      <td>2.610000</td>\n",
              "      <td>1.200000e+00</td>\n",
              "      <td>1.860000</td>\n",
              "      <td>1.900000e+00</td>\n",
              "    </tr>\n",
              "  </tbody>\n",
              "</table>\n",
              "</div>\n",
              "      <button class=\"colab-df-convert\" onclick=\"convertToInteractive('df-ca296f22-6a9f-4b06-ad8a-8c2d69829ff3')\"\n",
              "              title=\"Convert this dataframe to an interactive table.\"\n",
              "              style=\"display:none;\">\n",
              "        \n",
              "  <svg xmlns=\"http://www.w3.org/2000/svg\" height=\"24px\"viewBox=\"0 0 24 24\"\n",
              "       width=\"24px\">\n",
              "    <path d=\"M0 0h24v24H0V0z\" fill=\"none\"/>\n",
              "    <path d=\"M18.56 5.44l.94 2.06.94-2.06 2.06-.94-2.06-.94-.94-2.06-.94 2.06-2.06.94zm-11 1L8.5 8.5l.94-2.06 2.06-.94-2.06-.94L8.5 2.5l-.94 2.06-2.06.94zm10 10l.94 2.06.94-2.06 2.06-.94-2.06-.94-.94-2.06-.94 2.06-2.06.94z\"/><path d=\"M17.41 7.96l-1.37-1.37c-.4-.4-.92-.59-1.43-.59-.52 0-1.04.2-1.43.59L10.3 9.45l-7.72 7.72c-.78.78-.78 2.05 0 2.83L4 21.41c.39.39.9.59 1.41.59.51 0 1.02-.2 1.41-.59l7.78-7.78 2.81-2.81c.8-.78.8-2.07 0-2.86zM5.41 20L4 18.59l7.72-7.72 1.47 1.35L5.41 20z\"/>\n",
              "  </svg>\n",
              "      </button>\n",
              "      \n",
              "  <style>\n",
              "    .colab-df-container {\n",
              "      display:flex;\n",
              "      flex-wrap:wrap;\n",
              "      gap: 12px;\n",
              "    }\n",
              "\n",
              "    .colab-df-convert {\n",
              "      background-color: #E8F0FE;\n",
              "      border: none;\n",
              "      border-radius: 50%;\n",
              "      cursor: pointer;\n",
              "      display: none;\n",
              "      fill: #1967D2;\n",
              "      height: 32px;\n",
              "      padding: 0 0 0 0;\n",
              "      width: 32px;\n",
              "    }\n",
              "\n",
              "    .colab-df-convert:hover {\n",
              "      background-color: #E2EBFA;\n",
              "      box-shadow: 0px 1px 2px rgba(60, 64, 67, 0.3), 0px 1px 3px 1px rgba(60, 64, 67, 0.15);\n",
              "      fill: #174EA6;\n",
              "    }\n",
              "\n",
              "    [theme=dark] .colab-df-convert {\n",
              "      background-color: #3B4455;\n",
              "      fill: #D2E3FC;\n",
              "    }\n",
              "\n",
              "    [theme=dark] .colab-df-convert:hover {\n",
              "      background-color: #434B5C;\n",
              "      box-shadow: 0px 1px 3px 1px rgba(0, 0, 0, 0.15);\n",
              "      filter: drop-shadow(0px 1px 2px rgba(0, 0, 0, 0.3));\n",
              "      fill: #FFFFFF;\n",
              "    }\n",
              "  </style>\n",
              "\n",
              "      <script>\n",
              "        const buttonEl =\n",
              "          document.querySelector('#df-ca296f22-6a9f-4b06-ad8a-8c2d69829ff3 button.colab-df-convert');\n",
              "        buttonEl.style.display =\n",
              "          google.colab.kernel.accessAllowed ? 'block' : 'none';\n",
              "\n",
              "        async function convertToInteractive(key) {\n",
              "          const element = document.querySelector('#df-ca296f22-6a9f-4b06-ad8a-8c2d69829ff3');\n",
              "          const dataTable =\n",
              "            await google.colab.kernel.invokeFunction('convertToInteractive',\n",
              "                                                     [key], {});\n",
              "          if (!dataTable) return;\n",
              "\n",
              "          const docLinkHtml = 'Like what you see? Visit the ' +\n",
              "            '<a target=\"_blank\" href=https://colab.research.google.com/notebooks/data_table.ipynb>data table notebook</a>'\n",
              "            + ' to learn more about interactive tables.';\n",
              "          element.innerHTML = '';\n",
              "          dataTable['output_type'] = 'display_data';\n",
              "          await google.colab.output.renderOutput(dataTable, element);\n",
              "          const docLink = document.createElement('div');\n",
              "          docLink.innerHTML = docLinkHtml;\n",
              "          element.appendChild(docLink);\n",
              "        }\n",
              "      </script>\n",
              "    </div>\n",
              "  </div>\n",
              "  "
            ],
            "text/plain": [
              "       danceability        energy   liveness  speechiness       valence  \\\n",
              "count     16.000000  1.600000e+01  16.000000    16.000000  1.600000e+01   \n",
              "mean      -0.000625 -4.163336e-17  -0.000625     0.000000  1.387779e-17   \n",
              "std        1.031998  1.033376e+00   1.032282     1.033131  1.032712e+00   \n",
              "min       -1.870000 -1.590000e+00  -1.240000    -0.970000 -1.450000e+00   \n",
              "25%       -0.602500 -9.100000e-01  -0.667500    -0.752500 -1.152500e+00   \n",
              "50%       -0.275000 -3.000000e-02  -0.145000    -0.510000  6.500000e-02   \n",
              "75%        0.832500  9.200000e-01   0.202500     0.425000  9.775000e-01   \n",
              "max        1.650000  1.400000e+00   2.580000     2.610000  1.200000e+00   \n",
              "\n",
              "           tempo  acousticness  \n",
              "count  16.000000  1.600000e+01  \n",
              "mean    0.000000 -2.775558e-17  \n",
              "std     1.031833  1.033454e+00  \n",
              "min    -1.440000 -1.280000e+00  \n",
              "25%    -0.677500 -9.775000e-01  \n",
              "50%    -0.300000  2.500000e-02  \n",
              "75%     0.680000  5.900000e-01  \n",
              "max     1.860000  1.900000e+00  "
            ]
          },
          "execution_count": 43,
          "metadata": {},
          "output_type": "execute_result"
        }
      ],
      "source": [
        "## Resumen de la data escalada\n",
        "## ==============================================================================\n",
        "data_scalada.describe()\n",
        "round(data_scalada,2).describe()"
      ]
    },
    {
      "cell_type": "code",
      "execution_count": null,
      "metadata": {
        "id": "4wwHOneRg4CB"
      },
      "outputs": [],
      "source": [
        "## Buscamos el mejor numero de clusters\n",
        "## Función que grafica a través del método del \"codo\", el mejor número de clusters \"k\" \n",
        "## ==============================================================================\n",
        "def graficar_codo(numK,data_scalada):\n",
        "    sse = [] #Variable para guardar el within cluster distance\n",
        "    #numK = 20\n",
        "    for k in range(1, numK): #número de cluster a probar\n",
        "        #Creando el modelo, entrenandolo y obteniendo el valor del within cluster distance\n",
        "        modelo_KM = KMeans(n_clusters=k)\n",
        "        modelo_KM.fit(data_scalada)\n",
        "        sse.append(modelo_KM.inertia_)\n",
        "    fig = pd.DataFrame(sse, index=np.arange(1,numK)).plot()\n",
        "    return fig\n",
        "    "
      ]
    },
    {
      "cell_type": "code",
      "execution_count": null,
      "metadata": {
        "colab": {
          "base_uri": "https://localhost:8080/",
          "height": 282
        },
        "id": "am8qCEJQg4Px",
        "outputId": "d403f4e0-0c6b-4474-879c-7a34212678c9"
      },
      "outputs": [
        {
          "data": {
            "text/plain": [
              "<matplotlib.axes._subplots.AxesSubplot at 0x7f0c621451d0>"
            ]
          },
          "execution_count": 45,
          "metadata": {},
          "output_type": "execute_result"
        },
        {
          "data": {
            "image/png": "[encoded data removed]",
            "text/plain": [
              "<Figure size 432x288 with 1 Axes>"
            ]
          },
          "metadata": {
            "needs_background": "light"
          },
          "output_type": "display_data"
        }
      ],
      "source": [
        "## Gráfica de codo \n",
        "## ==============================================================================\n",
        "graficar_codo(15,data_scalada)"
      ]
    },
    {
      "cell_type": "markdown",
      "metadata": {
        "id": "Nx9-VCNuBxc2"
      },
      "source": [
        "Ségun el resultado de la gráfica podemos observar el quiebre se presenta cerca del punto = 4, por lo que se define utilizar este valor para \"k\" en el entrenamiento mediante KMeans"
      ]
    },
    {
      "cell_type": "code",
      "execution_count": null,
      "metadata": {
        "colab": {
          "base_uri": "https://localhost:8080/"
        },
        "id": "0y1OzGfelUAL",
        "outputId": "eea6b6d6-5847-46cb-c192-cfb67fbd84e8"
      },
      "outputs": [
        {
          "name": "stdout",
          "output_type": "stream",
          "text": [
            "45.86516683371312\n"
          ]
        }
      ],
      "source": [
        "## Llamada a método KMeans y ajuste del modelo\n",
        "## ==============================================================================\n",
        "modelo_KM = KMeans(n_clusters=4)\n",
        "\n",
        "## Ajuste del modelo\n",
        "modelo_KM.fit (data_scalada)\n",
        "\n",
        "## Impresion de la inercia\n",
        "print(modelo_KM.inertia_)\n",
        "\n",
        "clases_km = pd.DataFrame(modelo_KM.labels_,index = data_scalada.index)"
      ]
    },
    {
      "cell_type": "code",
      "execution_count": null,
      "metadata": {
        "colab": {
          "base_uri": "https://localhost:8080/",
          "height": 206
        },
        "id": "MVC6CB7mlanV",
        "outputId": "cecbbeeb-a681-4537-8f2e-d3087ef06174"
      },
      "outputs": [
        {
          "data": {
            "text/html": [
              "\n",
              "  <div id=\"df-6fd259fd-433a-4eac-9ca8-ba3a284af48f\">\n",
              "    <div class=\"colab-df-container\">\n",
              "      <div>\n",
              "<style scoped>\n",
              "    .dataframe tbody tr th:only-of-type {\n",
              "        vertical-align: middle;\n",
              "    }\n",
              "\n",
              "    .dataframe tbody tr th {\n",
              "        vertical-align: top;\n",
              "    }\n",
              "\n",
              "    .dataframe thead th {\n",
              "        text-align: right;\n",
              "    }\n",
              "</style>\n",
              "<table border=\"1\" class=\"dataframe\">\n",
              "  <thead>\n",
              "    <tr style=\"text-align: right;\">\n",
              "      <th></th>\n",
              "      <th>danceability</th>\n",
              "      <th>energy</th>\n",
              "      <th>liveness</th>\n",
              "      <th>speechiness</th>\n",
              "      <th>valence</th>\n",
              "      <th>tempo</th>\n",
              "      <th>acousticness</th>\n",
              "      <th>clases</th>\n",
              "    </tr>\n",
              "  </thead>\n",
              "  <tbody>\n",
              "    <tr>\n",
              "      <th>0</th>\n",
              "      <td>-0.196785</td>\n",
              "      <td>1.101516</td>\n",
              "      <td>-1.238119</td>\n",
              "      <td>0.341663</td>\n",
              "      <td>1.142706</td>\n",
              "      <td>-1.055651</td>\n",
              "      <td>-1.056638</td>\n",
              "      <td>0</td>\n",
              "    </tr>\n",
              "    <tr>\n",
              "      <th>1</th>\n",
              "      <td>-1.869167</td>\n",
              "      <td>1.205299</td>\n",
              "      <td>-0.005275</td>\n",
              "      <td>0.680456</td>\n",
              "      <td>-0.398002</td>\n",
              "      <td>1.593145</td>\n",
              "      <td>-1.280599</td>\n",
              "      <td>2</td>\n",
              "    </tr>\n",
              "    <tr>\n",
              "      <th>2</th>\n",
              "      <td>0.933708</td>\n",
              "      <td>-0.908102</td>\n",
              "      <td>-0.623773</td>\n",
              "      <td>-0.609146</td>\n",
              "      <td>-0.206717</td>\n",
              "      <td>1.589685</td>\n",
              "      <td>-0.097314</td>\n",
              "      <td>3</td>\n",
              "    </tr>\n",
              "    <tr>\n",
              "      <th>3</th>\n",
              "      <td>1.531654</td>\n",
              "      <td>0.346730</td>\n",
              "      <td>-0.654213</td>\n",
              "      <td>0.271718</td>\n",
              "      <td>1.201830</td>\n",
              "      <td>-0.516960</td>\n",
              "      <td>0.708660</td>\n",
              "      <td>0</td>\n",
              "    </tr>\n",
              "    <tr>\n",
              "      <th>4</th>\n",
              "      <td>-0.579845</td>\n",
              "      <td>-0.615623</td>\n",
              "      <td>-0.475721</td>\n",
              "      <td>-0.974169</td>\n",
              "      <td>-1.451804</td>\n",
              "      <td>-0.567077</td>\n",
              "      <td>-0.782036</td>\n",
              "      <td>3</td>\n",
              "    </tr>\n",
              "  </tbody>\n",
              "</table>\n",
              "</div>\n",
              "      <button class=\"colab-df-convert\" onclick=\"convertToInteractive('df-6fd259fd-433a-4eac-9ca8-ba3a284af48f')\"\n",
              "              title=\"Convert this dataframe to an interactive table.\"\n",
              "              style=\"display:none;\">\n",
              "        \n",
              "  <svg xmlns=\"http://www.w3.org/2000/svg\" height=\"24px\"viewBox=\"0 0 24 24\"\n",
              "       width=\"24px\">\n",
              "    <path d=\"M0 0h24v24H0V0z\" fill=\"none\"/>\n",
              "    <path d=\"M18.56 5.44l.94 2.06.94-2.06 2.06-.94-2.06-.94-.94-2.06-.94 2.06-2.06.94zm-11 1L8.5 8.5l.94-2.06 2.06-.94-2.06-.94L8.5 2.5l-.94 2.06-2.06.94zm10 10l.94 2.06.94-2.06 2.06-.94-2.06-.94-.94-2.06-.94 2.06-2.06.94z\"/><path d=\"M17.41 7.96l-1.37-1.37c-.4-.4-.92-.59-1.43-.59-.52 0-1.04.2-1.43.59L10.3 9.45l-7.72 7.72c-.78.78-.78 2.05 0 2.83L4 21.41c.39.39.9.59 1.41.59.51 0 1.02-.2 1.41-.59l7.78-7.78 2.81-2.81c.8-.78.8-2.07 0-2.86zM5.41 20L4 18.59l7.72-7.72 1.47 1.35L5.41 20z\"/>\n",
              "  </svg>\n",
              "      </button>\n",
              "      \n",
              "  <style>\n",
              "    .colab-df-container {\n",
              "      display:flex;\n",
              "      flex-wrap:wrap;\n",
              "      gap: 12px;\n",
              "    }\n",
              "\n",
              "    .colab-df-convert {\n",
              "      background-color: #E8F0FE;\n",
              "      border: none;\n",
              "      border-radius: 50%;\n",
              "      cursor: pointer;\n",
              "      display: none;\n",
              "      fill: #1967D2;\n",
              "      height: 32px;\n",
              "      padding: 0 0 0 0;\n",
              "      width: 32px;\n",
              "    }\n",
              "\n",
              "    .colab-df-convert:hover {\n",
              "      background-color: #E2EBFA;\n",
              "      box-shadow: 0px 1px 2px rgba(60, 64, 67, 0.3), 0px 1px 3px 1px rgba(60, 64, 67, 0.15);\n",
              "      fill: #174EA6;\n",
              "    }\n",
              "\n",
              "    [theme=dark] .colab-df-convert {\n",
              "      background-color: #3B4455;\n",
              "      fill: #D2E3FC;\n",
              "    }\n",
              "\n",
              "    [theme=dark] .colab-df-convert:hover {\n",
              "      background-color: #434B5C;\n",
              "      box-shadow: 0px 1px 3px 1px rgba(0, 0, 0, 0.15);\n",
              "      filter: drop-shadow(0px 1px 2px rgba(0, 0, 0, 0.3));\n",
              "      fill: #FFFFFF;\n",
              "    }\n",
              "  </style>\n",
              "\n",
              "      <script>\n",
              "        const buttonEl =\n",
              "          document.querySelector('#df-6fd259fd-433a-4eac-9ca8-ba3a284af48f button.colab-df-convert');\n",
              "        buttonEl.style.display =\n",
              "          google.colab.kernel.accessAllowed ? 'block' : 'none';\n",
              "\n",
              "        async function convertToInteractive(key) {\n",
              "          const element = document.querySelector('#df-6fd259fd-433a-4eac-9ca8-ba3a284af48f');\n",
              "          const dataTable =\n",
              "            await google.colab.kernel.invokeFunction('convertToInteractive',\n",
              "                                                     [key], {});\n",
              "          if (!dataTable) return;\n",
              "\n",
              "          const docLinkHtml = 'Like what you see? Visit the ' +\n",
              "            '<a target=\"_blank\" href=https://colab.research.google.com/notebooks/data_table.ipynb>data table notebook</a>'\n",
              "            + ' to learn more about interactive tables.';\n",
              "          element.innerHTML = '';\n",
              "          dataTable['output_type'] = 'display_data';\n",
              "          await google.colab.output.renderOutput(dataTable, element);\n",
              "          const docLink = document.createElement('div');\n",
              "          docLink.innerHTML = docLinkHtml;\n",
              "          element.appendChild(docLink);\n",
              "        }\n",
              "      </script>\n",
              "    </div>\n",
              "  </div>\n",
              "  "
            ],
            "text/plain": [
              "   danceability    energy  liveness  speechiness   valence     tempo  \\\n",
              "0     -0.196785  1.101516 -1.238119     0.341663  1.142706 -1.055651   \n",
              "1     -1.869167  1.205299 -0.005275     0.680456 -0.398002  1.593145   \n",
              "2      0.933708 -0.908102 -0.623773    -0.609146 -0.206717  1.589685   \n",
              "3      1.531654  0.346730 -0.654213     0.271718  1.201830 -0.516960   \n",
              "4     -0.579845 -0.615623 -0.475721    -0.974169 -1.451804 -0.567077   \n",
              "\n",
              "   acousticness  clases  \n",
              "0     -1.056638       0  \n",
              "1     -1.280599       2  \n",
              "2     -0.097314       3  \n",
              "3      0.708660       0  \n",
              "4     -0.782036       3  "
            ]
          },
          "execution_count": 47,
          "metadata": {},
          "output_type": "execute_result"
        }
      ],
      "source": [
        "## Agregamos la columna \"clases\" a la data\n",
        "## ==============================================================================\n",
        "\n",
        "reporte_km = data_scalada.copy()\n",
        "reporte_km['clases'] = clases_km\n",
        "reporte_km.head()"
      ]
    },
    {
      "cell_type": "code",
      "execution_count": null,
      "metadata": {
        "colab": {
          "base_uri": "https://localhost:8080/",
          "height": 296
        },
        "id": "4dQ19N7plp_h",
        "outputId": "531446c3-1385-4409-a3d7-6abed2c3fff8"
      },
      "outputs": [
        {
          "data": {
            "text/plain": [
              "<matplotlib.axes._subplots.AxesSubplot at 0x7f0c6205ebd0>"
            ]
          },
          "execution_count": 48,
          "metadata": {},
          "output_type": "execute_result"
        },
        {
          "data": {
            "image/png": "[encoded data removed]",
            "text/plain": [
              "<Figure size 432x288 with 1 Axes>"
            ]
          },
          "metadata": {
            "needs_background": "light"
          },
          "output_type": "display_data"
        }
      ],
      "source": [
        "sns.scatterplot(x = reporte_km['danceability'], y = reporte_km['speechiness'], hue = reporte_km['clases'], palette='hsv')"
      ]
    },
    {
      "cell_type": "code",
      "execution_count": null,
      "metadata": {
        "colab": {
          "base_uri": "https://localhost:8080/",
          "height": 297
        },
        "id": "EPXEcjdNl3Ai",
        "outputId": "6881d506-f8ab-45ba-f760-2f32cf387b6b"
      },
      "outputs": [
        {
          "data": {
            "text/plain": [
              "<matplotlib.axes._subplots.AxesSubplot at 0x7f0c61fe0e90>"
            ]
          },
          "execution_count": 49,
          "metadata": {},
          "output_type": "execute_result"
        },
        {
          "data": {
            "image/png": "[encoded data removed]",
            "text/plain": [
              "<Figure size 432x288 with 1 Axes>"
            ]
          },
          "metadata": {
            "needs_background": "light"
          },
          "output_type": "display_data"
        }
      ],
      "source": [
        "sns.scatterplot(x = reporte_km['danceability'], y = reporte_km['energy'], hue = reporte_km['clases'],palette='hsv')"
      ]
    },
    {
      "cell_type": "code",
      "execution_count": null,
      "metadata": {
        "colab": {
          "base_uri": "https://localhost:8080/",
          "height": 144
        },
        "id": "ws4qwEIJl_Lk",
        "outputId": "87bea741-42ff-4c8a-d6cd-bd6eb271cb3e"
      },
      "outputs": [
        {
          "data": {
            "text/html": [
              "\n",
              "  <div id=\"df-cfc886c3-eb19-444f-9167-1a016c97c596\">\n",
              "    <div class=\"colab-df-container\">\n",
              "      <div>\n",
              "<style scoped>\n",
              "    .dataframe tbody tr th:only-of-type {\n",
              "        vertical-align: middle;\n",
              "    }\n",
              "\n",
              "    .dataframe tbody tr th {\n",
              "        vertical-align: top;\n",
              "    }\n",
              "\n",
              "    .dataframe thead th {\n",
              "        text-align: right;\n",
              "    }\n",
              "</style>\n",
              "<table border=\"1\" class=\"dataframe\">\n",
              "  <thead>\n",
              "    <tr style=\"text-align: right;\">\n",
              "      <th></th>\n",
              "      <th>0</th>\n",
              "      <th>1</th>\n",
              "    </tr>\n",
              "  </thead>\n",
              "  <tbody>\n",
              "    <tr>\n",
              "      <th>0</th>\n",
              "      <td>-1.648427</td>\n",
              "      <td>-0.275818</td>\n",
              "    </tr>\n",
              "    <tr>\n",
              "      <th>1</th>\n",
              "      <td>-0.730275</td>\n",
              "      <td>2.719028</td>\n",
              "    </tr>\n",
              "    <tr>\n",
              "      <th>2</th>\n",
              "      <td>0.409850</td>\n",
              "      <td>0.566698</td>\n",
              "    </tr>\n",
              "  </tbody>\n",
              "</table>\n",
              "</div>\n",
              "      <button class=\"colab-df-convert\" onclick=\"convertToInteractive('df-cfc886c3-eb19-444f-9167-1a016c97c596')\"\n",
              "              title=\"Convert this dataframe to an interactive table.\"\n",
              "              style=\"display:none;\">\n",
              "        \n",
              "  <svg xmlns=\"http://www.w3.org/2000/svg\" height=\"24px\"viewBox=\"0 0 24 24\"\n",
              "       width=\"24px\">\n",
              "    <path d=\"M0 0h24v24H0V0z\" fill=\"none\"/>\n",
              "    <path d=\"M18.56 5.44l.94 2.06.94-2.06 2.06-.94-2.06-.94-.94-2.06-.94 2.06-2.06.94zm-11 1L8.5 8.5l.94-2.06 2.06-.94-2.06-.94L8.5 2.5l-.94 2.06-2.06.94zm10 10l.94 2.06.94-2.06 2.06-.94-2.06-.94-.94-2.06-.94 2.06-2.06.94z\"/><path d=\"M17.41 7.96l-1.37-1.37c-.4-.4-.92-.59-1.43-.59-.52 0-1.04.2-1.43.59L10.3 9.45l-7.72 7.72c-.78.78-.78 2.05 0 2.83L4 21.41c.39.39.9.59 1.41.59.51 0 1.02-.2 1.41-.59l7.78-7.78 2.81-2.81c.8-.78.8-2.07 0-2.86zM5.41 20L4 18.59l7.72-7.72 1.47 1.35L5.41 20z\"/>\n",
              "  </svg>\n",
              "      </button>\n",
              "      \n",
              "  <style>\n",
              "    .colab-df-container {\n",
              "      display:flex;\n",
              "      flex-wrap:wrap;\n",
              "      gap: 12px;\n",
              "    }\n",
              "\n",
              "    .colab-df-convert {\n",
              "      background-color: #E8F0FE;\n",
              "      border: none;\n",
              "      border-radius: 50%;\n",
              "      cursor: pointer;\n",
              "      display: none;\n",
              "      fill: #1967D2;\n",
              "      height: 32px;\n",
              "      padding: 0 0 0 0;\n",
              "      width: 32px;\n",
              "    }\n",
              "\n",
              "    .colab-df-convert:hover {\n",
              "      background-color: #E2EBFA;\n",
              "      box-shadow: 0px 1px 2px rgba(60, 64, 67, 0.3), 0px 1px 3px 1px rgba(60, 64, 67, 0.15);\n",
              "      fill: #174EA6;\n",
              "    }\n",
              "\n",
              "    [theme=dark] .colab-df-convert {\n",
              "      background-color: #3B4455;\n",
              "      fill: #D2E3FC;\n",
              "    }\n",
              "\n",
              "    [theme=dark] .colab-df-convert:hover {\n",
              "      background-color: #434B5C;\n",
              "      box-shadow: 0px 1px 3px 1px rgba(0, 0, 0, 0.15);\n",
              "      filter: drop-shadow(0px 1px 2px rgba(0, 0, 0, 0.3));\n",
              "      fill: #FFFFFF;\n",
              "    }\n",
              "  </style>\n",
              "\n",
              "      <script>\n",
              "        const buttonEl =\n",
              "          document.querySelector('#df-cfc886c3-eb19-444f-9167-1a016c97c596 button.colab-df-convert');\n",
              "        buttonEl.style.display =\n",
              "          google.colab.kernel.accessAllowed ? 'block' : 'none';\n",
              "\n",
              "        async function convertToInteractive(key) {\n",
              "          const element = document.querySelector('#df-cfc886c3-eb19-444f-9167-1a016c97c596');\n",
              "          const dataTable =\n",
              "            await google.colab.kernel.invokeFunction('convertToInteractive',\n",
              "                                                     [key], {});\n",
              "          if (!dataTable) return;\n",
              "\n",
              "          const docLinkHtml = 'Like what you see? Visit the ' +\n",
              "            '<a target=\"_blank\" href=https://colab.research.google.com/notebooks/data_table.ipynb>data table notebook</a>'\n",
              "            + ' to learn more about interactive tables.';\n",
              "          element.innerHTML = '';\n",
              "          dataTable['output_type'] = 'display_data';\n",
              "          await google.colab.output.renderOutput(dataTable, element);\n",
              "          const docLink = document.createElement('div');\n",
              "          docLink.innerHTML = docLinkHtml;\n",
              "          element.appendChild(docLink);\n",
              "        }\n",
              "      </script>\n",
              "    </div>\n",
              "  </div>\n",
              "  "
            ],
            "text/plain": [
              "          0         1\n",
              "0 -1.648427 -0.275818\n",
              "1 -0.730275  2.719028\n",
              "2  0.409850  0.566698"
            ]
          },
          "execution_count": 50,
          "metadata": {},
          "output_type": "execute_result"
        }
      ],
      "source": [
        "## Aplicamos PCA a la data escalada\n",
        "## ==============================================================================\n",
        "\n",
        "pca = PCA(n_components=2)\n",
        "pca.fit(data_scalada)\n",
        "data_pca = pd.DataFrame(pca.transform(data_scalada), index = data_scalada.index)\n",
        "data_pca.head(3)"
      ]
    },
    {
      "cell_type": "code",
      "execution_count": null,
      "metadata": {
        "colab": {
          "base_uri": "https://localhost:8080/",
          "height": 282
        },
        "id": "cAQM6A0GmHuo",
        "outputId": "319353b6-4152-4021-b47d-f173b1131584"
      },
      "outputs": [
        {
          "data": {
            "text/plain": [
              "<matplotlib.axes._subplots.AxesSubplot at 0x7f0c61f7f610>"
            ]
          },
          "execution_count": 51,
          "metadata": {},
          "output_type": "execute_result"
        },
        {
          "data": {
            "image/png": "[encoded data removed]",
            "text/plain": [
              "<Figure size 432x288 with 1 Axes>"
            ]
          },
          "metadata": {
            "needs_background": "light"
          },
          "output_type": "display_data"
        }
      ],
      "source": [
        "## Gráfica de codo con resultado del análisis PCA\n",
        "## ==============================================================================\n",
        "graficar_codo(15,data_pca)"
      ]
    },
    {
      "cell_type": "code",
      "execution_count": null,
      "metadata": {
        "colab": {
          "base_uri": "https://localhost:8080/",
          "height": 224
        },
        "id": "WIMjhj-kmO25",
        "outputId": "59f84ffe-965f-42d4-eb8a-b69840e9b3f4"
      },
      "outputs": [
        {
          "name": "stdout",
          "output_type": "stream",
          "text": [
            "9.222156328250135\n"
          ]
        },
        {
          "data": {
            "text/html": [
              "\n",
              "  <div id=\"df-29c55d83-9d1c-48ce-a426-ff1db0915f2f\">\n",
              "    <div class=\"colab-df-container\">\n",
              "      <div>\n",
              "<style scoped>\n",
              "    .dataframe tbody tr th:only-of-type {\n",
              "        vertical-align: middle;\n",
              "    }\n",
              "\n",
              "    .dataframe tbody tr th {\n",
              "        vertical-align: top;\n",
              "    }\n",
              "\n",
              "    .dataframe thead th {\n",
              "        text-align: right;\n",
              "    }\n",
              "</style>\n",
              "<table border=\"1\" class=\"dataframe\">\n",
              "  <thead>\n",
              "    <tr style=\"text-align: right;\">\n",
              "      <th></th>\n",
              "      <th>danceability</th>\n",
              "      <th>energy</th>\n",
              "      <th>liveness</th>\n",
              "      <th>speechiness</th>\n",
              "      <th>valence</th>\n",
              "      <th>tempo</th>\n",
              "      <th>acousticness</th>\n",
              "      <th>clases</th>\n",
              "    </tr>\n",
              "  </thead>\n",
              "  <tbody>\n",
              "    <tr>\n",
              "      <th>0</th>\n",
              "      <td>-0.196785</td>\n",
              "      <td>1.101516</td>\n",
              "      <td>-1.238119</td>\n",
              "      <td>0.341663</td>\n",
              "      <td>1.142706</td>\n",
              "      <td>-1.055651</td>\n",
              "      <td>-1.056638</td>\n",
              "      <td>0</td>\n",
              "    </tr>\n",
              "    <tr>\n",
              "      <th>1</th>\n",
              "      <td>-1.869167</td>\n",
              "      <td>1.205299</td>\n",
              "      <td>-0.005275</td>\n",
              "      <td>0.680456</td>\n",
              "      <td>-0.398002</td>\n",
              "      <td>1.593145</td>\n",
              "      <td>-1.280599</td>\n",
              "      <td>2</td>\n",
              "    </tr>\n",
              "    <tr>\n",
              "      <th>2</th>\n",
              "      <td>0.933708</td>\n",
              "      <td>-0.908102</td>\n",
              "      <td>-0.623773</td>\n",
              "      <td>-0.609146</td>\n",
              "      <td>-0.206717</td>\n",
              "      <td>1.589685</td>\n",
              "      <td>-0.097314</td>\n",
              "      <td>3</td>\n",
              "    </tr>\n",
              "    <tr>\n",
              "      <th>3</th>\n",
              "      <td>1.531654</td>\n",
              "      <td>0.346730</td>\n",
              "      <td>-0.654213</td>\n",
              "      <td>0.271718</td>\n",
              "      <td>1.201830</td>\n",
              "      <td>-0.516960</td>\n",
              "      <td>0.708660</td>\n",
              "      <td>0</td>\n",
              "    </tr>\n",
              "    <tr>\n",
              "      <th>4</th>\n",
              "      <td>-0.579845</td>\n",
              "      <td>-0.615623</td>\n",
              "      <td>-0.475721</td>\n",
              "      <td>-0.974169</td>\n",
              "      <td>-1.451804</td>\n",
              "      <td>-0.567077</td>\n",
              "      <td>-0.782036</td>\n",
              "      <td>3</td>\n",
              "    </tr>\n",
              "  </tbody>\n",
              "</table>\n",
              "</div>\n",
              "      <button class=\"colab-df-convert\" onclick=\"convertToInteractive('df-29c55d83-9d1c-48ce-a426-ff1db0915f2f')\"\n",
              "              title=\"Convert this dataframe to an interactive table.\"\n",
              "              style=\"display:none;\">\n",
              "        \n",
              "  <svg xmlns=\"http://www.w3.org/2000/svg\" height=\"24px\"viewBox=\"0 0 24 24\"\n",
              "       width=\"24px\">\n",
              "    <path d=\"M0 0h24v24H0V0z\" fill=\"none\"/>\n",
              "    <path d=\"M18.56 5.44l.94 2.06.94-2.06 2.06-.94-2.06-.94-.94-2.06-.94 2.06-2.06.94zm-11 1L8.5 8.5l.94-2.06 2.06-.94-2.06-.94L8.5 2.5l-.94 2.06-2.06.94zm10 10l.94 2.06.94-2.06 2.06-.94-2.06-.94-.94-2.06-.94 2.06-2.06.94z\"/><path d=\"M17.41 7.96l-1.37-1.37c-.4-.4-.92-.59-1.43-.59-.52 0-1.04.2-1.43.59L10.3 9.45l-7.72 7.72c-.78.78-.78 2.05 0 2.83L4 21.41c.39.39.9.59 1.41.59.51 0 1.02-.2 1.41-.59l7.78-7.78 2.81-2.81c.8-.78.8-2.07 0-2.86zM5.41 20L4 18.59l7.72-7.72 1.47 1.35L5.41 20z\"/>\n",
              "  </svg>\n",
              "      </button>\n",
              "      \n",
              "  <style>\n",
              "    .colab-df-container {\n",
              "      display:flex;\n",
              "      flex-wrap:wrap;\n",
              "      gap: 12px;\n",
              "    }\n",
              "\n",
              "    .colab-df-convert {\n",
              "      background-color: #E8F0FE;\n",
              "      border: none;\n",
              "      border-radius: 50%;\n",
              "      cursor: pointer;\n",
              "      display: none;\n",
              "      fill: #1967D2;\n",
              "      height: 32px;\n",
              "      padding: 0 0 0 0;\n",
              "      width: 32px;\n",
              "    }\n",
              "\n",
              "    .colab-df-convert:hover {\n",
              "      background-color: #E2EBFA;\n",
              "      box-shadow: 0px 1px 2px rgba(60, 64, 67, 0.3), 0px 1px 3px 1px rgba(60, 64, 67, 0.15);\n",
              "      fill: #174EA6;\n",
              "    }\n",
              "\n",
              "    [theme=dark] .colab-df-convert {\n",
              "      background-color: #3B4455;\n",
              "      fill: #D2E3FC;\n",
              "    }\n",
              "\n",
              "    [theme=dark] .colab-df-convert:hover {\n",
              "      background-color: #434B5C;\n",
              "      box-shadow: 0px 1px 3px 1px rgba(0, 0, 0, 0.15);\n",
              "      filter: drop-shadow(0px 1px 2px rgba(0, 0, 0, 0.3));\n",
              "      fill: #FFFFFF;\n",
              "    }\n",
              "  </style>\n",
              "\n",
              "      <script>\n",
              "        const buttonEl =\n",
              "          document.querySelector('#df-29c55d83-9d1c-48ce-a426-ff1db0915f2f button.colab-df-convert');\n",
              "        buttonEl.style.display =\n",
              "          google.colab.kernel.accessAllowed ? 'block' : 'none';\n",
              "\n",
              "        async function convertToInteractive(key) {\n",
              "          const element = document.querySelector('#df-29c55d83-9d1c-48ce-a426-ff1db0915f2f');\n",
              "          const dataTable =\n",
              "            await google.colab.kernel.invokeFunction('convertToInteractive',\n",
              "                                                     [key], {});\n",
              "          if (!dataTable) return;\n",
              "\n",
              "          const docLinkHtml = 'Like what you see? Visit the ' +\n",
              "            '<a target=\"_blank\" href=https://colab.research.google.com/notebooks/data_table.ipynb>data table notebook</a>'\n",
              "            + ' to learn more about interactive tables.';\n",
              "          element.innerHTML = '';\n",
              "          dataTable['output_type'] = 'display_data';\n",
              "          await google.colab.output.renderOutput(dataTable, element);\n",
              "          const docLink = document.createElement('div');\n",
              "          docLink.innerHTML = docLinkHtml;\n",
              "          element.appendChild(docLink);\n",
              "        }\n",
              "      </script>\n",
              "    </div>\n",
              "  </div>\n",
              "  "
            ],
            "text/plain": [
              "   danceability    energy  liveness  speechiness   valence     tempo  \\\n",
              "0     -0.196785  1.101516 -1.238119     0.341663  1.142706 -1.055651   \n",
              "1     -1.869167  1.205299 -0.005275     0.680456 -0.398002  1.593145   \n",
              "2      0.933708 -0.908102 -0.623773    -0.609146 -0.206717  1.589685   \n",
              "3      1.531654  0.346730 -0.654213     0.271718  1.201830 -0.516960   \n",
              "4     -0.579845 -0.615623 -0.475721    -0.974169 -1.451804 -0.567077   \n",
              "\n",
              "   acousticness  clases  \n",
              "0     -1.056638       0  \n",
              "1     -1.280599       2  \n",
              "2     -0.097314       3  \n",
              "3      0.708660       0  \n",
              "4     -0.782036       3  "
            ]
          },
          "execution_count": 52,
          "metadata": {},
          "output_type": "execute_result"
        }
      ],
      "source": [
        "## Aplicamos KMeans con la data resultante del PCA\n",
        "## ==============================================================================\n",
        "modelo_KM_pca = KMeans(n_clusters=4)\n",
        "\n",
        "## Ajuste del modelo\n",
        "modelo_KM_pca.fit (data_pca)\n",
        "print(modelo_KM_pca.inertia_)\n",
        "clases_km_pca = pd.DataFrame(modelo_KM_pca.labels_,index = data_scalada.index)\n",
        "reporte_km_pca = data_scalada.copy()\n",
        "reporte_km_pca['clases'] = clases_km_pca\n",
        "reporte_km_pca.head()"
      ]
    },
    {
      "cell_type": "code",
      "execution_count": null,
      "metadata": {
        "colab": {
          "base_uri": "https://localhost:8080/",
          "height": 514
        },
        "id": "zNSwMuR0mTvI",
        "outputId": "1dad354e-4131-407e-930b-bd37cabe6145"
      },
      "outputs": [
        {
          "data": {
            "text/plain": [
              "<matplotlib.axes._subplots.AxesSubplot at 0x7f0c62054210>"
            ]
          },
          "execution_count": 53,
          "metadata": {},
          "output_type": "execute_result"
        },
        {
          "data": {
            "image/png": "[encoded data removed]",
            "text/plain": [
              "<Figure size 720x576 with 1 Axes>"
            ]
          },
          "metadata": {
            "needs_background": "light"
          },
          "output_type": "display_data"
        }
      ],
      "source": [
        "#sns.set_style(\"whitegrid\")\n",
        "data_pca['clases'] = clases_km_pca\n",
        "fig, ax = plt.subplots(figsize = (10,8))\n",
        "sns.scatterplot(x = data_pca[0], y = data_pca[1], hue = data_pca['clases'], palette='hsv')"
      ]
    },
    {
      "cell_type": "code",
      "execution_count": null,
      "metadata": {
        "colab": {
          "base_uri": "https://localhost:8080/",
          "height": 490
        },
        "id": "EUyqT89TmV_p",
        "outputId": "c6197c48-789d-4cf0-eba8-cfdc927d72fa"
      },
      "outputs": [
        {
          "data": {
            "image/png": "[encoded data removed]",
            "text/plain": [
              "<Figure size 640x480 with 1 Axes>"
            ]
          },
          "metadata": {},
          "output_type": "display_data"
        },
        {
          "data": {
            "text/plain": [
              "<ggplot: (8730702293197)>"
            ]
          },
          "execution_count": 55,
          "metadata": {},
          "output_type": "execute_result"
        }
      ],
      "source": [
        "#Analizando los componentes\n",
        "## ==============================================================================\n",
        "data_pca = pd.DataFrame(pca.components_.transpose(),columns=[\"PC1\",\"PC2\"])\n",
        "data_pca['varNames']=data_scalada.columns\n",
        "(ggplot(data_pca)+\n",
        "  theme_bw()+\n",
        "  labs(title=\"loading plots\")+\n",
        "  geom_text(aes(x=\"PC1\", y=\"PC2\", label=\"varNames\"), size = 10, color=\"blue\")+\n",
        "  geom_segment(aes(x=0, y=0, xend=\"PC1\", yend=\"PC2\"), arrow=arrow(length=0.1),size=1, alpha=0.75, color=\"blue\")+\n",
        "  scale_x_continuous(limits=[-0.9,0.9],breaks=[-1,-0.6,-0.5,-0.4,-0.3,-0.2,-0.1,0.0,0.1,0.2,0.3,0.4,0.5,0.6,1])+\n",
        "  scale_y_continuous(limits=[-0.9,0.9],breaks=[-0.6,-0.5,-0.4,-0.3,-0.2,-0.1,0.0,0.1,0.2,0.3,0.4,0.5,0.6])+\n",
        "  geom_hline(yintercept = 0, size=.2)+\n",
        "  geom_vline(xintercept = 0, size=.2)+\n",
        "  coord_cartesian([-0.6,0.6],[-0.6,0.6])\n",
        ")"
      ]
    }
  ],
  "metadata": {
    "colab": {
      "collapsed_sections": [],
      "provenance": []
    },
    "kernelspec": {
      "display_name": "Python 3",
      "name": "python3"
    },
    "language_info": {
      "name": "python"
    }
  },
  "nbformat": 4,
  "nbformat_minor": 0
}
